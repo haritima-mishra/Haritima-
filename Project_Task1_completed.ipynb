{
  "nbformat": 4,
  "nbformat_minor": 0,
  "metadata": {
    "colab": {
      "provenance": []
    },
    "kernelspec": {
      "name": "python3",
      "display_name": "Python 3"
    },
    "language_info": {
      "name": "python"
    }
  },
  "cells": [
    {
      "cell_type": "markdown",
      "source": [
        "**Project Task-1 Write a python program to displayed products count number by products main categories and sub categories. Enter 1 put value link = Yoshops.com Enter 2 put categories link= Output = create excel file with Name Category, Products count,Total products count. After completing task please convert your PY file to EXE file and uploaded both py file and Exe file in mega.io and send link to me W hatsApp Please go through below video link to understand exe file convert process https://youtu.be/GASjjIGcfBo**"
      ],
      "metadata": {
        "id": "h1UfjEc6KJZ_"
      }
    },
    {
      "cell_type": "code",
      "source": [
        "from urllib import request\n",
        "from bs4 import BeautifulSoup\n",
        "!pip install AutoScraper\n",
        "from autoscraper import AutoScraper\n",
        "import requests\n",
        "import csv\n",
        "import pandas as pd\n",
        "import warnings\n",
        "warnings.filterwarnings('ignore')"
      ],
      "metadata": {
        "colab": {
          "base_uri": "https://localhost:8080/"
        },
        "id": "WlvsSe9UKN_W",
        "outputId": "77637c8e-8215-4e22-cc08-1bd02a0e9715"
      },
      "execution_count": null,
      "outputs": [
        {
          "output_type": "stream",
          "name": "stdout",
          "text": [
            "Looking in indexes: https://pypi.org/simple, https://us-python.pkg.dev/colab-wheels/public/simple/\n",
            "Requirement already satisfied: AutoScraper in /usr/local/lib/python3.9/dist-packages (1.1.14)\n",
            "Requirement already satisfied: bs4 in /usr/local/lib/python3.9/dist-packages (from AutoScraper) (0.0.1)\n",
            "Requirement already satisfied: requests in /usr/local/lib/python3.9/dist-packages (from AutoScraper) (2.27.1)\n",
            "Requirement already satisfied: lxml in /usr/local/lib/python3.9/dist-packages (from AutoScraper) (4.9.2)\n",
            "Requirement already satisfied: beautifulsoup4 in /usr/local/lib/python3.9/dist-packages (from bs4->AutoScraper) (4.11.2)\n",
            "Requirement already satisfied: idna<4,>=2.5 in /usr/local/lib/python3.9/dist-packages (from requests->AutoScraper) (3.4)\n",
            "Requirement already satisfied: urllib3<1.27,>=1.21.1 in /usr/local/lib/python3.9/dist-packages (from requests->AutoScraper) (1.26.15)\n",
            "Requirement already satisfied: certifi>=2017.4.17 in /usr/local/lib/python3.9/dist-packages (from requests->AutoScraper) (2022.12.7)\n",
            "Requirement already satisfied: charset-normalizer~=2.0.0 in /usr/local/lib/python3.9/dist-packages (from requests->AutoScraper) (2.0.12)\n",
            "Requirement already satisfied: soupsieve>1.2 in /usr/local/lib/python3.9/dist-packages (from beautifulsoup4->bs4->AutoScraper) (2.4)\n"
          ]
        }
      ]
    },
    {
      "cell_type": "code",
      "source": [
        "#website = input(\"enter the website:\")\n",
        "# category = input(\"enter the category/subcategory:\")"
      ],
      "metadata": {
        "id": "xXo0jh-LK2Qp"
      },
      "execution_count": null,
      "outputs": []
    },
    {
      "cell_type": "code",
      "source": [
        "category=\"Toys\"\n",
        "url=\"https://yoshops.com/t/\"+category.lower()\n",
        "headers = {'User-Agent': 'Mozilla/5.0 (Macintosh; Intel Mac OS X 10_11_5) AppleWebKit/537.36 (KHTML, like Gecko) Chrome/50.0.2661.102 Safari/537.36'}"
      ],
      "metadata": {
        "id": "2TfDvoruK2hB"
      },
      "execution_count": null,
      "outputs": []
    },
    {
      "cell_type": "code",
      "source": [
        "response = requests.get(url, headers=headers)\n",
        "response.status_code\n",
        "print(response)"
      ],
      "metadata": {
        "colab": {
          "base_uri": "https://localhost:8080/"
        },
        "id": "0US93aFSK2kv",
        "outputId": "05922964-5256-4bfa-8233-c4d861b750c7"
      },
      "execution_count": null,
      "outputs": [
        {
          "output_type": "stream",
          "name": "stdout",
          "text": [
            "<Response [200]>\n"
          ]
        }
      ]
    },
    {
      "cell_type": "code",
      "source": [
        "soup = BeautifulSoup(response.content, 'html.parser')\n",
        "table = soup.find('ul',attrs= {'id':'page-cat-list'})\n",
        "ch=table.find_all('li')"
      ],
      "metadata": {
        "id": "8MWgLJpUK2of"
      },
      "execution_count": null,
      "outputs": []
    },
    {
      "cell_type": "code",
      "source": [
        "print(ch)"
      ],
      "metadata": {
        "colab": {
          "base_uri": "https://localhost:8080/"
        },
        "id": "5b1hsWrYK2rH",
        "outputId": "4e185c45-1db8-4d9a-9cc8-88009f01aa81"
      },
      "execution_count": null,
      "outputs": [
        {
          "output_type": "stream",
          "name": "stdout",
          "text": [
            "[<li class=\"active\">\n",
            "<a href=\"/t/toys\">Toys &amp; Games</a>\n",
            "<ul>\n",
            "<li>\n",
            "<a href=\"/t/playstation\">PlayStation</a>\n",
            "</li>\n",
            "<li>\n",
            "<a href=\"/t/drones\">Drones</a>\n",
            "</li>\n",
            "<li>\n",
            "<a href=\"/t/rc-helicopter\">RC Toys</a>\n",
            "</li>\n",
            "<li>\n",
            "<a href=\"/t/soft-toys\">Soft Toys</a>\n",
            "</li>\n",
            "<li>\n",
            "<a href=\"/t/gaming-accessories\">Gaming Accessories</a>\n",
            "</li>\n",
            "</ul>\n",
            "</li>, <li>\n",
            "<a href=\"/t/playstation\">PlayStation</a>\n",
            "</li>, <li>\n",
            "<a href=\"/t/drones\">Drones</a>\n",
            "</li>, <li>\n",
            "<a href=\"/t/rc-helicopter\">RC Toys</a>\n",
            "</li>, <li>\n",
            "<a href=\"/t/soft-toys\">Soft Toys</a>\n",
            "</li>, <li>\n",
            "<a href=\"/t/gaming-accessories\">Gaming Accessories</a>\n",
            "</li>, <li>\n",
            "<a href=\"/t/mobile-phones\">Mobiles</a>\n",
            "<ul>\n",
            "<li>\n",
            "<a href=\"/t/smartphones\">Smartphones</a>\n",
            "</li>\n",
            "<li>\n",
            "<a href=\"/t/headphones\">Headphones</a>\n",
            "</li>\n",
            "<li>\n",
            "<a href=\"/t/mobiles-accessories\">Mobiles Accessories</a>\n",
            "</li>\n",
            "<li>\n",
            "<a href=\"/t/basic-keypad-phone\">Feature Keypad Mobiles</a>\n",
            "</li>\n",
            "</ul>\n",
            "</li>, <li>\n",
            "<a href=\"/t/smartphones\">Smartphones</a>\n",
            "</li>, <li>\n",
            "<a href=\"/t/headphones\">Headphones</a>\n",
            "</li>, <li>\n",
            "<a href=\"/t/mobiles-accessories\">Mobiles Accessories</a>\n",
            "</li>, <li>\n",
            "<a href=\"/t/basic-keypad-phone\">Feature Keypad Mobiles</a>\n",
            "</li>, <li>\n",
            "<a href=\"/t/laptops\">Laptops</a>\n",
            "<ul>\n",
            "<li>\n",
            "<a href=\"/t/gaming-laptops\">Gaming Laptops</a>\n",
            "</li>\n",
            "<li>\n",
            "<a href=\"/t/personal-laptops\">Personal Laptops</a>\n",
            "</li>\n",
            "<li>\n",
            "<a href=\"/t/tablets\">Tablets</a>\n",
            "</li>\n",
            "<li>\n",
            "<a href=\"/t/laptop-accessories\">Laptop Accessories</a>\n",
            "</li>\n",
            "<li>\n",
            "<a href=\"/t/computers-accessories\">Computers Accessories</a>\n",
            "</li>\n",
            "</ul>\n",
            "</li>, <li>\n",
            "<a href=\"/t/gaming-laptops\">Gaming Laptops</a>\n",
            "</li>, <li>\n",
            "<a href=\"/t/personal-laptops\">Personal Laptops</a>\n",
            "</li>, <li>\n",
            "<a href=\"/t/tablets\">Tablets</a>\n",
            "</li>, <li>\n",
            "<a href=\"/t/laptop-accessories\">Laptop Accessories</a>\n",
            "</li>, <li>\n",
            "<a href=\"/t/computers-accessories\">Computers Accessories</a>\n",
            "</li>, <li>\n",
            "<a href=\"/t/accessories\">Accessories</a>\n",
            "<ul>\n",
            "<li>\n",
            "<a href=\"/t/books\">Books</a>\n",
            "</li>\n",
            "<li>\n",
            "<a href=\"/t/stationery\">Stationery</a>\n",
            "</li>\n",
            "<li>\n",
            "<a href=\"/t/books--bags\">Bags</a>\n",
            "</li>\n",
            "<li>\n",
            "<a href=\"/t/grocery\">SpareParts</a>\n",
            "<ul>\n",
            "<li>\n",
            "<a href=\"/t/bike\">Auto spare parts</a>\n",
            "</li>\n",
            "<li>\n",
            "<a href=\"/t/Mobile-Parts\">Mobile Spare Parts</a>\n",
            "</li>\n",
            "<li>\n",
            "<a href=\"/t/Laptop-spare-parts\">Laptop spare parts</a>\n",
            "</li>\n",
            "</ul>\n",
            "</li>\n",
            "<li>\n",
            "<a href=\"/t/more\">More</a>\n",
            "</li>\n",
            "</ul>\n",
            "</li>, <li>\n",
            "<a href=\"/t/books\">Books</a>\n",
            "</li>, <li>\n",
            "<a href=\"/t/stationery\">Stationery</a>\n",
            "</li>, <li>\n",
            "<a href=\"/t/books--bags\">Bags</a>\n",
            "</li>, <li>\n",
            "<a href=\"/t/grocery\">SpareParts</a>\n",
            "<ul>\n",
            "<li>\n",
            "<a href=\"/t/bike\">Auto spare parts</a>\n",
            "</li>\n",
            "<li>\n",
            "<a href=\"/t/Mobile-Parts\">Mobile Spare Parts</a>\n",
            "</li>\n",
            "<li>\n",
            "<a href=\"/t/Laptop-spare-parts\">Laptop spare parts</a>\n",
            "</li>\n",
            "</ul>\n",
            "</li>, <li>\n",
            "<a href=\"/t/bike\">Auto spare parts</a>\n",
            "</li>, <li>\n",
            "<a href=\"/t/Mobile-Parts\">Mobile Spare Parts</a>\n",
            "</li>, <li>\n",
            "<a href=\"/t/Laptop-spare-parts\">Laptop spare parts</a>\n",
            "</li>, <li>\n",
            "<a href=\"/t/more\">More</a>\n",
            "</li>, <li>\n",
            "<a href=\"/t/electronics\">Electronics</a>\n",
            "<ul>\n",
            "<li>\n",
            "<a href=\"/t/led-tv\">Led TV</a>\n",
            "</li>\n",
            "<li>\n",
            "<a href=\"/t/jewelry--watches\">Others</a>\n",
            "</li>\n",
            "</ul>\n",
            "</li>, <li>\n",
            "<a href=\"/t/led-tv\">Led TV</a>\n",
            "</li>, <li>\n",
            "<a href=\"/t/jewelry--watches\">Others</a>\n",
            "</li>, <li>\n",
            "<a href=\"/t/home--kitchen\">Home &amp; Kitchen</a>\n",
            "<ul>\n",
            "<li>\n",
            "<a href=\"/t/irons\">Irons</a>\n",
            "</li>\n",
            "<li>\n",
            "<a href=\"/t/mixer-grinder-juicer\">Mixer Grinder Juicer</a>\n",
            "</li>\n",
            "</ul>\n",
            "</li>, <li>\n",
            "<a href=\"/t/irons\">Irons</a>\n",
            "</li>, <li>\n",
            "<a href=\"/t/mixer-grinder-juicer\">Mixer Grinder Juicer</a>\n",
            "</li>, <li>\n",
            "<a href=\"/t/fashion\">Fashion</a>\n",
            "<ul>\n",
            "<li>\n",
            "<a href=\"/t/men\">Men</a>\n",
            "<ul>\n",
            "<li>\n",
            "<a href=\"/t/men-clothing\">Men Clothing</a>\n",
            "</li>\n",
            "<li>\n",
            "<a href=\"/t/sunglasses\">Sunglasses</a>\n",
            "</li>\n",
            "<li>\n",
            "<a href=\"/t/watches\">Watches</a>\n",
            "</li>\n",
            "<li>\n",
            "<a href=\"/t/mens-footwear\">Men's Footwear</a>\n",
            "</li>\n",
            "</ul>\n",
            "</li>\n",
            "<li>\n",
            "<a href=\"/t/womens\">Womens</a>\n",
            "<ul>\n",
            "<li>\n",
            "<a href=\"/t/women-clothing\">Women Clothing</a>\n",
            "</li>\n",
            "<li>\n",
            "<a href=\"/t/face-makeup\">Face Makeup</a>\n",
            "</li>\n",
            "<li>\n",
            "<a href=\"/t/personal-care\">Personal Care</a>\n",
            "</li>\n",
            "</ul>\n",
            "</li>\n",
            "<li>\n",
            "<a href=\"/t/kids\">Kids</a>\n",
            "<ul>\n",
            "<li>\n",
            "<a href=\"/t/kids-clothing\">Kids Clothing</a>\n",
            "</li>\n",
            "<li>\n",
            "<a href=\"/t/shoes\">Shoes</a>\n",
            "</li>\n",
            "</ul>\n",
            "</li>\n",
            "</ul>\n",
            "</li>, <li>\n",
            "<a href=\"/t/men\">Men</a>\n",
            "<ul>\n",
            "<li>\n",
            "<a href=\"/t/men-clothing\">Men Clothing</a>\n",
            "</li>\n",
            "<li>\n",
            "<a href=\"/t/sunglasses\">Sunglasses</a>\n",
            "</li>\n",
            "<li>\n",
            "<a href=\"/t/watches\">Watches</a>\n",
            "</li>\n",
            "<li>\n",
            "<a href=\"/t/mens-footwear\">Men's Footwear</a>\n",
            "</li>\n",
            "</ul>\n",
            "</li>, <li>\n",
            "<a href=\"/t/men-clothing\">Men Clothing</a>\n",
            "</li>, <li>\n",
            "<a href=\"/t/sunglasses\">Sunglasses</a>\n",
            "</li>, <li>\n",
            "<a href=\"/t/watches\">Watches</a>\n",
            "</li>, <li>\n",
            "<a href=\"/t/mens-footwear\">Men's Footwear</a>\n",
            "</li>, <li>\n",
            "<a href=\"/t/womens\">Womens</a>\n",
            "<ul>\n",
            "<li>\n",
            "<a href=\"/t/women-clothing\">Women Clothing</a>\n",
            "</li>\n",
            "<li>\n",
            "<a href=\"/t/face-makeup\">Face Makeup</a>\n",
            "</li>\n",
            "<li>\n",
            "<a href=\"/t/personal-care\">Personal Care</a>\n",
            "</li>\n",
            "</ul>\n",
            "</li>, <li>\n",
            "<a href=\"/t/women-clothing\">Women Clothing</a>\n",
            "</li>, <li>\n",
            "<a href=\"/t/face-makeup\">Face Makeup</a>\n",
            "</li>, <li>\n",
            "<a href=\"/t/personal-care\">Personal Care</a>\n",
            "</li>, <li>\n",
            "<a href=\"/t/kids\">Kids</a>\n",
            "<ul>\n",
            "<li>\n",
            "<a href=\"/t/kids-clothing\">Kids Clothing</a>\n",
            "</li>\n",
            "<li>\n",
            "<a href=\"/t/shoes\">Shoes</a>\n",
            "</li>\n",
            "</ul>\n",
            "</li>, <li>\n",
            "<a href=\"/t/kids-clothing\">Kids Clothing</a>\n",
            "</li>, <li>\n",
            "<a href=\"/t/shoes\">Shoes</a>\n",
            "</li>, <li>\n",
            "<a href=\"/t/food\">Foods</a>\n",
            "<ul>\n",
            "<li>\n",
            "<a href=\"/t/organic\">Organic foods</a>\n",
            "</li>\n",
            "<li>\n",
            "<a href=\"/t/vegetable\">Vegetable</a>\n",
            "</li>\n",
            "<li>\n",
            "<a href=\"/t/non-veg\">Non Veg</a>\n",
            "</li>\n",
            "<li>\n",
            "<a href=\"/t/seafood\">Seafood</a>\n",
            "</li>\n",
            "<li>\n",
            "<a href=\"/t/biryani\">Biryani</a>\n",
            "</li>\n",
            "</ul>\n",
            "</li>, <li>\n",
            "<a href=\"/t/organic\">Organic foods</a>\n",
            "</li>, <li>\n",
            "<a href=\"/t/vegetable\">Vegetable</a>\n",
            "</li>, <li>\n",
            "<a href=\"/t/non-veg\">Non Veg</a>\n",
            "</li>, <li>\n",
            "<a href=\"/t/seafood\">Seafood</a>\n",
            "</li>, <li>\n",
            "<a href=\"/t/biryani\">Biryani</a>\n",
            "</li>, <li>\n",
            "<a href=\"/t/Services\">Services</a>\n",
            "<ul>\n",
            "<li>\n",
            "<a href=\"/t/tuition\">Online Live Tuition</a>\n",
            "</li>\n",
            "<li>\n",
            "<a href=\"/t/internship\">Training Internship Work From Home</a>\n",
            "</li>\n",
            "<li>\n",
            "<a href=\"/t/pcd-pharma-distributor\">Yoga Pharma Franchise</a>\n",
            "</li>\n",
            "<li>\n",
            "<a href=\"/t/sponsorship-marketing\">Sponsorship Marketing</a>\n",
            "<ul>\n",
            "<li>\n",
            "<a href=\"/t/teacher-sponsorship\">Teacher Sponsorship</a>\n",
            "</li>\n",
            "<li>\n",
            "<a href=\"/t/blog-sponsorship\">Blog Sponsorship</a>\n",
            "</li>\n",
            "<li>\n",
            "<a href=\"/t/instagram-sponsorship\">Instagram Sponsorship</a>\n",
            "</li>\n",
            "<li>\n",
            "<a href=\"/t/youtuber-sponsorship\">YouTube Sponsorship</a>\n",
            "</li>\n",
            "</ul>\n",
            "</li>\n",
            "<li>\n",
            "<a href=\"/t/refurbished-and-used-laptop-phone\">Refurbish Laptop Mobiles</a>\n",
            "</li>\n",
            "<li>\n",
            "<a href=\"/t/bengaluru\">Bengaluru</a>\n",
            "</li>\n",
            "<li>\n",
            "<a href=\"/t/chennai\">Chennai</a>\n",
            "</li>\n",
            "<li>\n",
            "<a href=\"/t/mumbai\">Mumbai</a>\n",
            "</li>\n",
            "</ul>\n",
            "</li>, <li>\n",
            "<a href=\"/t/tuition\">Online Live Tuition</a>\n",
            "</li>, <li>\n",
            "<a href=\"/t/internship\">Training Internship Work From Home</a>\n",
            "</li>, <li>\n",
            "<a href=\"/t/pcd-pharma-distributor\">Yoga Pharma Franchise</a>\n",
            "</li>, <li>\n",
            "<a href=\"/t/sponsorship-marketing\">Sponsorship Marketing</a>\n",
            "<ul>\n",
            "<li>\n",
            "<a href=\"/t/teacher-sponsorship\">Teacher Sponsorship</a>\n",
            "</li>\n",
            "<li>\n",
            "<a href=\"/t/blog-sponsorship\">Blog Sponsorship</a>\n",
            "</li>\n",
            "<li>\n",
            "<a href=\"/t/instagram-sponsorship\">Instagram Sponsorship</a>\n",
            "</li>\n",
            "<li>\n",
            "<a href=\"/t/youtuber-sponsorship\">YouTube Sponsorship</a>\n",
            "</li>\n",
            "</ul>\n",
            "</li>, <li>\n",
            "<a href=\"/t/teacher-sponsorship\">Teacher Sponsorship</a>\n",
            "</li>, <li>\n",
            "<a href=\"/t/blog-sponsorship\">Blog Sponsorship</a>\n",
            "</li>, <li>\n",
            "<a href=\"/t/instagram-sponsorship\">Instagram Sponsorship</a>\n",
            "</li>, <li>\n",
            "<a href=\"/t/youtuber-sponsorship\">YouTube Sponsorship</a>\n",
            "</li>, <li>\n",
            "<a href=\"/t/refurbished-and-used-laptop-phone\">Refurbish Laptop Mobiles</a>\n",
            "</li>, <li>\n",
            "<a href=\"/t/bengaluru\">Bengaluru</a>\n",
            "</li>, <li>\n",
            "<a href=\"/t/chennai\">Chennai</a>\n",
            "</li>, <li>\n",
            "<a href=\"/t/mumbai\">Mumbai</a>\n",
            "</li>]\n"
          ]
        }
      ]
    },
    {
      "cell_type": "code",
      "source": [
        "cat=[]\n",
        "sub_cat=[]\n",
        "link1=[]"
      ],
      "metadata": {
        "id": "GkWJNW9YNsOv"
      },
      "execution_count": null,
      "outputs": []
    },
    {
      "cell_type": "code",
      "source": [
        "y = ch[0].find('a',href=True)\n",
        "x=y.text.strip()\n",
        "#print(x)\n",
        "cat1=[x]*len(range(1,6))\n",
        "cat =cat+cat1\n",
        "print(cat1)"
      ],
      "metadata": {
        "colab": {
          "base_uri": "https://localhost:8080/"
        },
        "id": "RQfOiCF0K2uA",
        "outputId": "9a41a649-00cf-464b-bc38-b762849d6e51"
      },
      "execution_count": null,
      "outputs": [
        {
          "output_type": "stream",
          "name": "stdout",
          "text": [
            "['Toys & Games', 'Toys & Games', 'Toys & Games', 'Toys & Games', 'Toys & Games']\n"
          ]
        }
      ]
    },
    {
      "cell_type": "markdown",
      "source": [
        "TOY & GAME CATEGORY"
      ],
      "metadata": {
        "id": "PrAjm3ONOK86"
      }
    },
    {
      "cell_type": "code",
      "source": [
        "for i in range(1,6):\n",
        "  y=ch[i].find('a',href=True)\n",
        "  x1 =y['href']\n",
        "  print(x1)\n",
        "  link1.append(x1)\n",
        "  x=y.text.strip()\n",
        "  sub_cat.append(x)"
      ],
      "metadata": {
        "colab": {
          "base_uri": "https://localhost:8080/"
        },
        "id": "tggV623pOGZG",
        "outputId": "6513ed77-49ef-4552-bebf-186d52752c63"
      },
      "execution_count": null,
      "outputs": [
        {
          "output_type": "stream",
          "name": "stdout",
          "text": [
            "/t/playstation\n",
            "/t/drones\n",
            "/t/rc-helicopter\n",
            "/t/soft-toys\n",
            "/t/gaming-accessories\n"
          ]
        }
      ]
    },
    {
      "cell_type": "markdown",
      "source": [
        "MOBILE CATEGORY"
      ],
      "metadata": {
        "id": "jHFwG5-JOS6z"
      }
    },
    {
      "cell_type": "code",
      "source": [
        "y = ch[6].find('a',href=True)\n",
        "x=y.text.strip()\n",
        "print(x)\n",
        "cat1=[x]*len(range(7,11))\n",
        "cat=cat+cat1\n",
        "print(cat1)"
      ],
      "metadata": {
        "colab": {
          "base_uri": "https://localhost:8080/"
        },
        "id": "PUtgtIXMOdjx",
        "outputId": "2577aa50-212b-4f7e-f127-63e6274fc0aa"
      },
      "execution_count": null,
      "outputs": [
        {
          "output_type": "stream",
          "name": "stdout",
          "text": [
            "Mobiles\n",
            "['Mobiles', 'Mobiles', 'Mobiles', 'Mobiles']\n"
          ]
        }
      ]
    },
    {
      "cell_type": "code",
      "source": [
        "for i in range(7,11):\n",
        "  y=ch[i].find('a',href=True)\n",
        "  x1 =y['href']\n",
        "  print(x1)\n",
        "  link1.append(x1)\n",
        "  x=y.text.strip()\n",
        "  sub_cat.append(x)"
      ],
      "metadata": {
        "colab": {
          "base_uri": "https://localhost:8080/"
        },
        "id": "kAsVe4f2PUOV",
        "outputId": "6de3222d-14af-4b0c-d693-b944fda14986"
      },
      "execution_count": null,
      "outputs": [
        {
          "output_type": "stream",
          "name": "stdout",
          "text": [
            "/t/smartphones\n",
            "/t/headphones\n",
            "/t/mobiles-accessories\n",
            "/t/basic-keypad-phone\n"
          ]
        }
      ]
    },
    {
      "cell_type": "markdown",
      "source": [
        "LAPTOP CATEGORY"
      ],
      "metadata": {
        "id": "8uFmIl_3P5KE"
      }
    },
    {
      "cell_type": "code",
      "source": [
        "y = ch[11].find('a',href=True)\n",
        "x=y.text.strip()\n",
        "print(x)\n",
        "cat1=[x]*len(range(12,17))\n",
        "cat=cat+cat1\n",
        "print(cat1)"
      ],
      "metadata": {
        "colab": {
          "base_uri": "https://localhost:8080/"
        },
        "id": "LdrLsL4MPkHW",
        "outputId": "8af0ac53-2b22-42ca-eed4-a1680e8e63d8"
      },
      "execution_count": null,
      "outputs": [
        {
          "output_type": "stream",
          "name": "stdout",
          "text": [
            "Laptops\n",
            "['Laptops', 'Laptops', 'Laptops', 'Laptops', 'Laptops']\n"
          ]
        }
      ]
    },
    {
      "cell_type": "code",
      "source": [
        "for i in range(12,17):\n",
        "  y=ch[i].find('a',href=True)\n",
        "  x1 =y['href']\n",
        "  print(x1)\n",
        "  link1.append(x1)\n",
        "  x=y.text.strip()\n",
        "  sub_cat.append(x)"
      ],
      "metadata": {
        "colab": {
          "base_uri": "https://localhost:8080/"
        },
        "id": "-JxgRk7SPtdq",
        "outputId": "d3faf0b6-58df-4962-a2fd-746b1c179c08"
      },
      "execution_count": null,
      "outputs": [
        {
          "output_type": "stream",
          "name": "stdout",
          "text": [
            "/t/gaming-laptops\n",
            "/t/personal-laptops\n",
            "/t/tablets\n",
            "/t/laptop-accessories\n",
            "/t/computers-accessories\n"
          ]
        }
      ]
    },
    {
      "cell_type": "markdown",
      "source": [
        "ACCESSORIES"
      ],
      "metadata": {
        "id": "PwIiOB0gQG0C"
      }
    },
    {
      "cell_type": "code",
      "source": [
        "y = ch[17].find('a',href=True)\n",
        "x=y.text.strip()\n",
        "print(x)\n",
        "cat1=[x]*len(range(18,26))\n",
        "cat=cat+cat1\n",
        "print(cat1)\n",
        "for i in range(18,26):\n",
        "  y=ch[i].find('a',href=True)\n",
        "  x1 =y['href']\n",
        "  print(x1)\n",
        "  link1.append(x1)\n",
        "  x=y.text.strip()\n",
        "  sub_cat.append(x)"
      ],
      "metadata": {
        "colab": {
          "base_uri": "https://localhost:8080/"
        },
        "id": "YrZqs6WjP8-1",
        "outputId": "075fc05b-075a-43ef-ed03-dabf854c4ce2"
      },
      "execution_count": null,
      "outputs": [
        {
          "output_type": "stream",
          "name": "stdout",
          "text": [
            "Accessories\n",
            "['Accessories', 'Accessories', 'Accessories', 'Accessories', 'Accessories', 'Accessories', 'Accessories', 'Accessories']\n",
            "/t/books\n",
            "/t/stationery\n",
            "/t/books--bags\n",
            "/t/grocery\n",
            "/t/bike\n",
            "/t/Mobile-Parts\n",
            "/t/Laptop-spare-parts\n",
            "/t/more\n"
          ]
        }
      ]
    },
    {
      "cell_type": "markdown",
      "source": [
        "ELECTRONIC"
      ],
      "metadata": {
        "id": "Z9DR6gWyQm46"
      }
    },
    {
      "cell_type": "code",
      "source": [
        "y = ch[26].find('a',href=True)\n",
        "x=y.text.strip()\n",
        "print(x)\n",
        "cat1=[x]*len(range(27,29))\n",
        "cat=cat+cat1\n",
        "print(cat1)\n",
        "for i in range(27,29):\n",
        "  y=ch[i].find('a',href=True)\n",
        "  x1 =y['href']\n",
        "  print(x1)\n",
        "  link1.append(x1)\n",
        "  x=y.text.strip()\n",
        "  sub_cat.append(x)"
      ],
      "metadata": {
        "colab": {
          "base_uri": "https://localhost:8080/"
        },
        "id": "3mNR92_iQqLG",
        "outputId": "4242c1c4-2972-41cc-9749-7c428c72a39c"
      },
      "execution_count": null,
      "outputs": [
        {
          "output_type": "stream",
          "name": "stdout",
          "text": [
            "Electronics\n",
            "['Electronics', 'Electronics']\n",
            "/t/led-tv\n",
            "/t/jewelry--watches\n"
          ]
        }
      ]
    },
    {
      "cell_type": "markdown",
      "source": [
        "HOME CATEGORY"
      ],
      "metadata": {
        "id": "Z0bH8CrhScg3"
      }
    },
    {
      "cell_type": "code",
      "source": [
        "y = ch[29].find('a',href=True)\n",
        "x=y.text.strip()\n",
        "print(x)\n",
        "cat1=[x]*len(range(30,32))\n",
        "cat=cat+cat1\n",
        "print(cat1)\n",
        "for i in range(30,32):\n",
        "  y=ch[i].find('a',href=True)\n",
        "  x1 =y['href']\n",
        "  print(x1)\n",
        "  link1.append(x1)\n",
        "  x=y.text.strip()\n",
        "  sub_cat.append(x)"
      ],
      "metadata": {
        "colab": {
          "base_uri": "https://localhost:8080/"
        },
        "id": "UMjUv29JShTO",
        "outputId": "11000595-bfb7-4b63-92b4-3f2ff48fbc1a"
      },
      "execution_count": null,
      "outputs": [
        {
          "output_type": "stream",
          "name": "stdout",
          "text": [
            "Home & Kitchen\n",
            "['Home & Kitchen', 'Home & Kitchen']\n",
            "/t/irons\n",
            "/t/mixer-grinder-juicer\n"
          ]
        }
      ]
    },
    {
      "cell_type": "markdown",
      "source": [
        "FAISHON CATEGORY"
      ],
      "metadata": {
        "id": "qUFjEzRUStGV"
      }
    },
    {
      "cell_type": "code",
      "source": [
        "y = ch[32].find('a',href=True)\n",
        "x=y.text.strip()\n",
        "print(x)\n",
        "cat1=[x]*len(range(33,45))\n",
        "cat=cat+cat1\n",
        "print(cat1)\n",
        "for i in range(33,45):\n",
        "  y=ch[i].find('a',href=True)\n",
        "  x1 =y['href']\n",
        "  print(x1)\n",
        "  link1.append(x1)\n",
        "  x=y.text.strip()\n",
        "  sub_cat.append(x)"
      ],
      "metadata": {
        "colab": {
          "base_uri": "https://localhost:8080/"
        },
        "id": "pEH9Vr6QSwx8",
        "outputId": "a8bd7fab-79f1-4883-aa03-fd2bec3445b3"
      },
      "execution_count": null,
      "outputs": [
        {
          "output_type": "stream",
          "name": "stdout",
          "text": [
            "Fashion\n",
            "['Fashion', 'Fashion', 'Fashion', 'Fashion', 'Fashion', 'Fashion', 'Fashion', 'Fashion', 'Fashion', 'Fashion', 'Fashion', 'Fashion']\n",
            "/t/men\n",
            "/t/men-clothing\n",
            "/t/sunglasses\n",
            "/t/watches\n",
            "/t/mens-footwear\n",
            "/t/womens\n",
            "/t/women-clothing\n",
            "/t/face-makeup\n",
            "/t/personal-care\n",
            "/t/kids\n",
            "/t/kids-clothing\n",
            "/t/shoes\n"
          ]
        }
      ]
    },
    {
      "cell_type": "markdown",
      "source": [
        "FOOD CATEGORY"
      ],
      "metadata": {
        "id": "3EAWuIhGTCC_"
      }
    },
    {
      "cell_type": "code",
      "source": [
        "y = ch[45].find('a',href=True)\n",
        "x=y.text.strip()\n",
        "print(x)\n",
        "cat1=[x]*len(range(46,51))\n",
        "cat=cat+cat1\n",
        "print(cat1)\n",
        "for i in range(46,51):\n",
        "  y=ch[i].find('a',href=True)\n",
        "  x1 =y['href']\n",
        "  print(x1)\n",
        "  link1.append(x1)\n",
        "  x=y.text.strip()\n",
        "  sub_cat.append(x)"
      ],
      "metadata": {
        "colab": {
          "base_uri": "https://localhost:8080/"
        },
        "id": "M_WECnjdTODu",
        "outputId": "1ec734c8-6060-4241-8a6f-ce425fff5408"
      },
      "execution_count": null,
      "outputs": [
        {
          "output_type": "stream",
          "name": "stdout",
          "text": [
            "Foods\n",
            "['Foods', 'Foods', 'Foods', 'Foods', 'Foods']\n",
            "/t/organic\n",
            "/t/vegetable\n",
            "/t/non-veg\n",
            "/t/seafood\n",
            "/t/biryani\n"
          ]
        }
      ]
    },
    {
      "cell_type": "markdown",
      "source": [
        "SERVICES"
      ],
      "metadata": {
        "id": "hHLi1MIITXJi"
      }
    },
    {
      "cell_type": "code",
      "source": [
        "y = ch[51].find('a',href=True)\n",
        "x=y.text.strip()\n",
        "print(x)\n",
        "cat1=[x]*len(range(52,64))\n",
        "cat=cat+cat1\n",
        "print(cat1)\n",
        "for i in range(52,64):\n",
        "  y=ch[i].find('a',href=True)\n",
        "  x1 =y['href']\n",
        "  print(x1)\n",
        "  link1.append(x1)\n",
        "  x=y.text.strip()\n",
        "  sub_cat.append(x)"
      ],
      "metadata": {
        "colab": {
          "base_uri": "https://localhost:8080/"
        },
        "id": "Cuslo-4gTZHo",
        "outputId": "829e6509-4621-43da-8244-4e5b54752fd0"
      },
      "execution_count": null,
      "outputs": [
        {
          "output_type": "stream",
          "name": "stdout",
          "text": [
            "Services\n",
            "['Services', 'Services', 'Services', 'Services', 'Services', 'Services', 'Services', 'Services', 'Services', 'Services', 'Services', 'Services']\n",
            "/t/tuition\n",
            "/t/internship\n",
            "/t/pcd-pharma-distributor\n",
            "/t/sponsorship-marketing\n",
            "/t/teacher-sponsorship\n",
            "/t/blog-sponsorship\n",
            "/t/instagram-sponsorship\n",
            "/t/youtuber-sponsorship\n",
            "/t/refurbished-and-used-laptop-phone\n",
            "/t/bengaluru\n",
            "/t/chennai\n",
            "/t/mumbai\n"
          ]
        }
      ]
    },
    {
      "cell_type": "code",
      "source": [
        "print(sub_cat)\n",
        "print(link1)"
      ],
      "metadata": {
        "colab": {
          "base_uri": "https://localhost:8080/"
        },
        "id": "JiQmPR2GYU4u",
        "outputId": "01b2d459-3bd9-424a-ad75-19e20a74edc1"
      },
      "execution_count": null,
      "outputs": [
        {
          "output_type": "stream",
          "name": "stdout",
          "text": [
            "['PlayStation', 'Drones', 'RC Toys', 'Soft Toys', 'Gaming Accessories', 'Smartphones', 'Headphones', 'Mobiles Accessories', 'Feature Keypad Mobiles', 'Gaming Laptops', 'Personal Laptops', 'Tablets', 'Laptop Accessories', 'Computers Accessories', 'Books', 'Stationery', 'Bags', 'SpareParts', 'Auto spare parts', 'Mobile Spare Parts', 'Laptop spare parts', 'More', 'Led TV', 'Others', 'Irons', 'Mixer Grinder Juicer', 'Men', 'Men Clothing', 'Sunglasses', 'Watches', \"Men's Footwear\", 'Womens', 'Women Clothing', 'Face Makeup', 'Personal Care', 'Kids', 'Kids Clothing', 'Shoes', 'Organic foods', 'Vegetable', 'Non Veg', 'Seafood', 'Biryani', 'Online Live Tuition', 'Training Internship Work From Home', 'Yoga Pharma Franchise', 'Sponsorship Marketing', 'Teacher Sponsorship', 'Blog Sponsorship', 'Instagram Sponsorship', 'YouTube Sponsorship', 'Refurbish Laptop Mobiles', 'Bengaluru', 'Chennai', 'Mumbai']\n",
            "['/t/playstation', '/t/drones', '/t/rc-helicopter', '/t/soft-toys', '/t/gaming-accessories', '/t/smartphones', '/t/headphones', '/t/mobiles-accessories', '/t/basic-keypad-phone', '/t/gaming-laptops', '/t/personal-laptops', '/t/tablets', '/t/laptop-accessories', '/t/computers-accessories', '/t/books', '/t/stationery', '/t/books--bags', '/t/grocery', '/t/bike', '/t/Mobile-Parts', '/t/Laptop-spare-parts', '/t/more', '/t/led-tv', '/t/jewelry--watches', '/t/irons', '/t/mixer-grinder-juicer', '/t/men', '/t/men-clothing', '/t/sunglasses', '/t/watches', '/t/mens-footwear', '/t/womens', '/t/women-clothing', '/t/face-makeup', '/t/personal-care', '/t/kids', '/t/kids-clothing', '/t/shoes', '/t/organic', '/t/vegetable', '/t/non-veg', '/t/seafood', '/t/biryani', '/t/tuition', '/t/internship', '/t/pcd-pharma-distributor', '/t/sponsorship-marketing', '/t/teacher-sponsorship', '/t/blog-sponsorship', '/t/instagram-sponsorship', '/t/youtuber-sponsorship', '/t/refurbished-and-used-laptop-phone', '/t/bengaluru', '/t/chennai', '/t/mumbai']\n"
          ]
        }
      ]
    },
    {
      "cell_type": "code",
      "source": [
        "url1=[]\n",
        "for link2 in link1:\n",
        "  x=\"https://yoshops.com\"+link2\n",
        "  url1.append(x)\n",
        "  i=i+1"
      ],
      "metadata": {
        "id": "FhE6maeQYdt_"
      },
      "execution_count": null,
      "outputs": []
    },
    {
      "cell_type": "code",
      "source": [
        "x=[]\n",
        "for i in range(len(url1)):\n",
        "  wanted_list =[\"Sony PlayStation PS2 Gaming Console 150 GB Hard Disk With 50 Games Preloaded(Black)\",\"₹8,999.00\"]\n",
        "  scraper = AutoScraper()\n",
        "  result = scraper.build(url1[0],wanted_list)\n",
        "  mobile = scraper.get_result_similar(url1[i],grouped=True)\n",
        "  mobile_list = pd.DataFrame(mobile)\n",
        "  x.append(len(mobile_list))"
      ],
      "metadata": {
        "id": "OE0Qvon_Y3ak"
      },
      "execution_count": null,
      "outputs": []
    },
    {
      "cell_type": "code",
      "source": [
        "df= pd.DataFrame({'category': cat,'Sub-Category':sub_cat,'Number of Products': x})"
      ],
      "metadata": {
        "id": "lwdiqfsZaAYs"
      },
      "execution_count": null,
      "outputs": []
    },
    {
      "cell_type": "code",
      "source": [
        "df"
      ],
      "metadata": {
        "colab": {
          "base_uri": "https://localhost:8080/",
          "height": 1000
        },
        "id": "x7gkG40UafRV",
        "outputId": "380c4525-9469-41f8-e947-b004fdc1214d"
      },
      "execution_count": null,
      "outputs": [
        {
          "output_type": "execute_result",
          "data": {
            "text/plain": [
              "          category                        Sub-Category  Number of Products\n",
              "0     Toys & Games                         PlayStation                   7\n",
              "1     Toys & Games                              Drones                  19\n",
              "2     Toys & Games                             RC Toys                  13\n",
              "3     Toys & Games                           Soft Toys                  32\n",
              "4     Toys & Games                  Gaming Accessories                  48\n",
              "5          Mobiles                         Smartphones                   5\n",
              "6          Mobiles                          Headphones                  48\n",
              "7          Mobiles                 Mobiles Accessories                  48\n",
              "8          Mobiles              Feature Keypad Mobiles                   9\n",
              "9          Laptops                      Gaming Laptops                   5\n",
              "10         Laptops                    Personal Laptops                   5\n",
              "11         Laptops                             Tablets                   6\n",
              "12         Laptops                  Laptop Accessories                  48\n",
              "13         Laptops               Computers Accessories                  48\n",
              "14     Accessories                               Books                  10\n",
              "15     Accessories                          Stationery                   3\n",
              "16     Accessories                                Bags                  17\n",
              "17     Accessories                          SpareParts                   0\n",
              "18     Accessories                    Auto spare parts                   3\n",
              "19     Accessories                  Mobile Spare Parts                  12\n",
              "20     Accessories                  Laptop spare parts                   5\n",
              "21     Accessories                                More                  13\n",
              "22     Electronics                              Led TV                   9\n",
              "23     Electronics                              Others                  14\n",
              "24  Home & Kitchen                               Irons                   3\n",
              "25  Home & Kitchen                Mixer Grinder Juicer                  10\n",
              "26         Fashion                                 Men                   0\n",
              "27         Fashion                        Men Clothing                   7\n",
              "28         Fashion                          Sunglasses                   1\n",
              "29         Fashion                             Watches                   4\n",
              "30         Fashion                      Men's Footwear                   9\n",
              "31         Fashion                              Womens                   0\n",
              "32         Fashion                      Women Clothing                  10\n",
              "33         Fashion                         Face Makeup                  31\n",
              "34         Fashion                       Personal Care                  34\n",
              "35         Fashion                                Kids                   0\n",
              "36         Fashion                       Kids Clothing                   4\n",
              "37         Fashion                               Shoes                  10\n",
              "38           Foods                       Organic foods                  23\n",
              "39           Foods                           Vegetable                   1\n",
              "40           Foods                             Non Veg                  22\n",
              "41           Foods                             Seafood                  10\n",
              "42           Foods                             Biryani                   8\n",
              "43        Services                 Online Live Tuition                  40\n",
              "44        Services  Training Internship Work From Home                  32\n",
              "45        Services               Yoga Pharma Franchise                   6\n",
              "46        Services               Sponsorship Marketing                   0\n",
              "47        Services                 Teacher Sponsorship                   8\n",
              "48        Services                    Blog Sponsorship                   6\n",
              "49        Services               Instagram Sponsorship                   6\n",
              "50        Services                 YouTube Sponsorship                   4\n",
              "51        Services            Refurbish Laptop Mobiles                   1\n",
              "52        Services                           Bengaluru                  48\n",
              "53        Services                             Chennai                  48\n",
              "54        Services                              Mumbai                  48"
            ],
            "text/html": [
              "\n",
              "  <div id=\"df-a29b5c2c-067e-4741-a08c-4e1301e26aed\">\n",
              "    <div class=\"colab-df-container\">\n",
              "      <div>\n",
              "<style scoped>\n",
              "    .dataframe tbody tr th:only-of-type {\n",
              "        vertical-align: middle;\n",
              "    }\n",
              "\n",
              "    .dataframe tbody tr th {\n",
              "        vertical-align: top;\n",
              "    }\n",
              "\n",
              "    .dataframe thead th {\n",
              "        text-align: right;\n",
              "    }\n",
              "</style>\n",
              "<table border=\"1\" class=\"dataframe\">\n",
              "  <thead>\n",
              "    <tr style=\"text-align: right;\">\n",
              "      <th></th>\n",
              "      <th>category</th>\n",
              "      <th>Sub-Category</th>\n",
              "      <th>Number of Products</th>\n",
              "    </tr>\n",
              "  </thead>\n",
              "  <tbody>\n",
              "    <tr>\n",
              "      <th>0</th>\n",
              "      <td>Toys &amp; Games</td>\n",
              "      <td>PlayStation</td>\n",
              "      <td>7</td>\n",
              "    </tr>\n",
              "    <tr>\n",
              "      <th>1</th>\n",
              "      <td>Toys &amp; Games</td>\n",
              "      <td>Drones</td>\n",
              "      <td>19</td>\n",
              "    </tr>\n",
              "    <tr>\n",
              "      <th>2</th>\n",
              "      <td>Toys &amp; Games</td>\n",
              "      <td>RC Toys</td>\n",
              "      <td>13</td>\n",
              "    </tr>\n",
              "    <tr>\n",
              "      <th>3</th>\n",
              "      <td>Toys &amp; Games</td>\n",
              "      <td>Soft Toys</td>\n",
              "      <td>32</td>\n",
              "    </tr>\n",
              "    <tr>\n",
              "      <th>4</th>\n",
              "      <td>Toys &amp; Games</td>\n",
              "      <td>Gaming Accessories</td>\n",
              "      <td>48</td>\n",
              "    </tr>\n",
              "    <tr>\n",
              "      <th>5</th>\n",
              "      <td>Mobiles</td>\n",
              "      <td>Smartphones</td>\n",
              "      <td>5</td>\n",
              "    </tr>\n",
              "    <tr>\n",
              "      <th>6</th>\n",
              "      <td>Mobiles</td>\n",
              "      <td>Headphones</td>\n",
              "      <td>48</td>\n",
              "    </tr>\n",
              "    <tr>\n",
              "      <th>7</th>\n",
              "      <td>Mobiles</td>\n",
              "      <td>Mobiles Accessories</td>\n",
              "      <td>48</td>\n",
              "    </tr>\n",
              "    <tr>\n",
              "      <th>8</th>\n",
              "      <td>Mobiles</td>\n",
              "      <td>Feature Keypad Mobiles</td>\n",
              "      <td>9</td>\n",
              "    </tr>\n",
              "    <tr>\n",
              "      <th>9</th>\n",
              "      <td>Laptops</td>\n",
              "      <td>Gaming Laptops</td>\n",
              "      <td>5</td>\n",
              "    </tr>\n",
              "    <tr>\n",
              "      <th>10</th>\n",
              "      <td>Laptops</td>\n",
              "      <td>Personal Laptops</td>\n",
              "      <td>5</td>\n",
              "    </tr>\n",
              "    <tr>\n",
              "      <th>11</th>\n",
              "      <td>Laptops</td>\n",
              "      <td>Tablets</td>\n",
              "      <td>6</td>\n",
              "    </tr>\n",
              "    <tr>\n",
              "      <th>12</th>\n",
              "      <td>Laptops</td>\n",
              "      <td>Laptop Accessories</td>\n",
              "      <td>48</td>\n",
              "    </tr>\n",
              "    <tr>\n",
              "      <th>13</th>\n",
              "      <td>Laptops</td>\n",
              "      <td>Computers Accessories</td>\n",
              "      <td>48</td>\n",
              "    </tr>\n",
              "    <tr>\n",
              "      <th>14</th>\n",
              "      <td>Accessories</td>\n",
              "      <td>Books</td>\n",
              "      <td>10</td>\n",
              "    </tr>\n",
              "    <tr>\n",
              "      <th>15</th>\n",
              "      <td>Accessories</td>\n",
              "      <td>Stationery</td>\n",
              "      <td>3</td>\n",
              "    </tr>\n",
              "    <tr>\n",
              "      <th>16</th>\n",
              "      <td>Accessories</td>\n",
              "      <td>Bags</td>\n",
              "      <td>17</td>\n",
              "    </tr>\n",
              "    <tr>\n",
              "      <th>17</th>\n",
              "      <td>Accessories</td>\n",
              "      <td>SpareParts</td>\n",
              "      <td>0</td>\n",
              "    </tr>\n",
              "    <tr>\n",
              "      <th>18</th>\n",
              "      <td>Accessories</td>\n",
              "      <td>Auto spare parts</td>\n",
              "      <td>3</td>\n",
              "    </tr>\n",
              "    <tr>\n",
              "      <th>19</th>\n",
              "      <td>Accessories</td>\n",
              "      <td>Mobile Spare Parts</td>\n",
              "      <td>12</td>\n",
              "    </tr>\n",
              "    <tr>\n",
              "      <th>20</th>\n",
              "      <td>Accessories</td>\n",
              "      <td>Laptop spare parts</td>\n",
              "      <td>5</td>\n",
              "    </tr>\n",
              "    <tr>\n",
              "      <th>21</th>\n",
              "      <td>Accessories</td>\n",
              "      <td>More</td>\n",
              "      <td>13</td>\n",
              "    </tr>\n",
              "    <tr>\n",
              "      <th>22</th>\n",
              "      <td>Electronics</td>\n",
              "      <td>Led TV</td>\n",
              "      <td>9</td>\n",
              "    </tr>\n",
              "    <tr>\n",
              "      <th>23</th>\n",
              "      <td>Electronics</td>\n",
              "      <td>Others</td>\n",
              "      <td>14</td>\n",
              "    </tr>\n",
              "    <tr>\n",
              "      <th>24</th>\n",
              "      <td>Home &amp; Kitchen</td>\n",
              "      <td>Irons</td>\n",
              "      <td>3</td>\n",
              "    </tr>\n",
              "    <tr>\n",
              "      <th>25</th>\n",
              "      <td>Home &amp; Kitchen</td>\n",
              "      <td>Mixer Grinder Juicer</td>\n",
              "      <td>10</td>\n",
              "    </tr>\n",
              "    <tr>\n",
              "      <th>26</th>\n",
              "      <td>Fashion</td>\n",
              "      <td>Men</td>\n",
              "      <td>0</td>\n",
              "    </tr>\n",
              "    <tr>\n",
              "      <th>27</th>\n",
              "      <td>Fashion</td>\n",
              "      <td>Men Clothing</td>\n",
              "      <td>7</td>\n",
              "    </tr>\n",
              "    <tr>\n",
              "      <th>28</th>\n",
              "      <td>Fashion</td>\n",
              "      <td>Sunglasses</td>\n",
              "      <td>1</td>\n",
              "    </tr>\n",
              "    <tr>\n",
              "      <th>29</th>\n",
              "      <td>Fashion</td>\n",
              "      <td>Watches</td>\n",
              "      <td>4</td>\n",
              "    </tr>\n",
              "    <tr>\n",
              "      <th>30</th>\n",
              "      <td>Fashion</td>\n",
              "      <td>Men's Footwear</td>\n",
              "      <td>9</td>\n",
              "    </tr>\n",
              "    <tr>\n",
              "      <th>31</th>\n",
              "      <td>Fashion</td>\n",
              "      <td>Womens</td>\n",
              "      <td>0</td>\n",
              "    </tr>\n",
              "    <tr>\n",
              "      <th>32</th>\n",
              "      <td>Fashion</td>\n",
              "      <td>Women Clothing</td>\n",
              "      <td>10</td>\n",
              "    </tr>\n",
              "    <tr>\n",
              "      <th>33</th>\n",
              "      <td>Fashion</td>\n",
              "      <td>Face Makeup</td>\n",
              "      <td>31</td>\n",
              "    </tr>\n",
              "    <tr>\n",
              "      <th>34</th>\n",
              "      <td>Fashion</td>\n",
              "      <td>Personal Care</td>\n",
              "      <td>34</td>\n",
              "    </tr>\n",
              "    <tr>\n",
              "      <th>35</th>\n",
              "      <td>Fashion</td>\n",
              "      <td>Kids</td>\n",
              "      <td>0</td>\n",
              "    </tr>\n",
              "    <tr>\n",
              "      <th>36</th>\n",
              "      <td>Fashion</td>\n",
              "      <td>Kids Clothing</td>\n",
              "      <td>4</td>\n",
              "    </tr>\n",
              "    <tr>\n",
              "      <th>37</th>\n",
              "      <td>Fashion</td>\n",
              "      <td>Shoes</td>\n",
              "      <td>10</td>\n",
              "    </tr>\n",
              "    <tr>\n",
              "      <th>38</th>\n",
              "      <td>Foods</td>\n",
              "      <td>Organic foods</td>\n",
              "      <td>23</td>\n",
              "    </tr>\n",
              "    <tr>\n",
              "      <th>39</th>\n",
              "      <td>Foods</td>\n",
              "      <td>Vegetable</td>\n",
              "      <td>1</td>\n",
              "    </tr>\n",
              "    <tr>\n",
              "      <th>40</th>\n",
              "      <td>Foods</td>\n",
              "      <td>Non Veg</td>\n",
              "      <td>22</td>\n",
              "    </tr>\n",
              "    <tr>\n",
              "      <th>41</th>\n",
              "      <td>Foods</td>\n",
              "      <td>Seafood</td>\n",
              "      <td>10</td>\n",
              "    </tr>\n",
              "    <tr>\n",
              "      <th>42</th>\n",
              "      <td>Foods</td>\n",
              "      <td>Biryani</td>\n",
              "      <td>8</td>\n",
              "    </tr>\n",
              "    <tr>\n",
              "      <th>43</th>\n",
              "      <td>Services</td>\n",
              "      <td>Online Live Tuition</td>\n",
              "      <td>40</td>\n",
              "    </tr>\n",
              "    <tr>\n",
              "      <th>44</th>\n",
              "      <td>Services</td>\n",
              "      <td>Training Internship Work From Home</td>\n",
              "      <td>32</td>\n",
              "    </tr>\n",
              "    <tr>\n",
              "      <th>45</th>\n",
              "      <td>Services</td>\n",
              "      <td>Yoga Pharma Franchise</td>\n",
              "      <td>6</td>\n",
              "    </tr>\n",
              "    <tr>\n",
              "      <th>46</th>\n",
              "      <td>Services</td>\n",
              "      <td>Sponsorship Marketing</td>\n",
              "      <td>0</td>\n",
              "    </tr>\n",
              "    <tr>\n",
              "      <th>47</th>\n",
              "      <td>Services</td>\n",
              "      <td>Teacher Sponsorship</td>\n",
              "      <td>8</td>\n",
              "    </tr>\n",
              "    <tr>\n",
              "      <th>48</th>\n",
              "      <td>Services</td>\n",
              "      <td>Blog Sponsorship</td>\n",
              "      <td>6</td>\n",
              "    </tr>\n",
              "    <tr>\n",
              "      <th>49</th>\n",
              "      <td>Services</td>\n",
              "      <td>Instagram Sponsorship</td>\n",
              "      <td>6</td>\n",
              "    </tr>\n",
              "    <tr>\n",
              "      <th>50</th>\n",
              "      <td>Services</td>\n",
              "      <td>YouTube Sponsorship</td>\n",
              "      <td>4</td>\n",
              "    </tr>\n",
              "    <tr>\n",
              "      <th>51</th>\n",
              "      <td>Services</td>\n",
              "      <td>Refurbish Laptop Mobiles</td>\n",
              "      <td>1</td>\n",
              "    </tr>\n",
              "    <tr>\n",
              "      <th>52</th>\n",
              "      <td>Services</td>\n",
              "      <td>Bengaluru</td>\n",
              "      <td>48</td>\n",
              "    </tr>\n",
              "    <tr>\n",
              "      <th>53</th>\n",
              "      <td>Services</td>\n",
              "      <td>Chennai</td>\n",
              "      <td>48</td>\n",
              "    </tr>\n",
              "    <tr>\n",
              "      <th>54</th>\n",
              "      <td>Services</td>\n",
              "      <td>Mumbai</td>\n",
              "      <td>48</td>\n",
              "    </tr>\n",
              "  </tbody>\n",
              "</table>\n",
              "</div>\n",
              "      <button class=\"colab-df-convert\" onclick=\"convertToInteractive('df-a29b5c2c-067e-4741-a08c-4e1301e26aed')\"\n",
              "              title=\"Convert this dataframe to an interactive table.\"\n",
              "              style=\"display:none;\">\n",
              "        \n",
              "  <svg xmlns=\"http://www.w3.org/2000/svg\" height=\"24px\"viewBox=\"0 0 24 24\"\n",
              "       width=\"24px\">\n",
              "    <path d=\"M0 0h24v24H0V0z\" fill=\"none\"/>\n",
              "    <path d=\"M18.56 5.44l.94 2.06.94-2.06 2.06-.94-2.06-.94-.94-2.06-.94 2.06-2.06.94zm-11 1L8.5 8.5l.94-2.06 2.06-.94-2.06-.94L8.5 2.5l-.94 2.06-2.06.94zm10 10l.94 2.06.94-2.06 2.06-.94-2.06-.94-.94-2.06-.94 2.06-2.06.94z\"/><path d=\"M17.41 7.96l-1.37-1.37c-.4-.4-.92-.59-1.43-.59-.52 0-1.04.2-1.43.59L10.3 9.45l-7.72 7.72c-.78.78-.78 2.05 0 2.83L4 21.41c.39.39.9.59 1.41.59.51 0 1.02-.2 1.41-.59l7.78-7.78 2.81-2.81c.8-.78.8-2.07 0-2.86zM5.41 20L4 18.59l7.72-7.72 1.47 1.35L5.41 20z\"/>\n",
              "  </svg>\n",
              "      </button>\n",
              "      \n",
              "  <style>\n",
              "    .colab-df-container {\n",
              "      display:flex;\n",
              "      flex-wrap:wrap;\n",
              "      gap: 12px;\n",
              "    }\n",
              "\n",
              "    .colab-df-convert {\n",
              "      background-color: #E8F0FE;\n",
              "      border: none;\n",
              "      border-radius: 50%;\n",
              "      cursor: pointer;\n",
              "      display: none;\n",
              "      fill: #1967D2;\n",
              "      height: 32px;\n",
              "      padding: 0 0 0 0;\n",
              "      width: 32px;\n",
              "    }\n",
              "\n",
              "    .colab-df-convert:hover {\n",
              "      background-color: #E2EBFA;\n",
              "      box-shadow: 0px 1px 2px rgba(60, 64, 67, 0.3), 0px 1px 3px 1px rgba(60, 64, 67, 0.15);\n",
              "      fill: #174EA6;\n",
              "    }\n",
              "\n",
              "    [theme=dark] .colab-df-convert {\n",
              "      background-color: #3B4455;\n",
              "      fill: #D2E3FC;\n",
              "    }\n",
              "\n",
              "    [theme=dark] .colab-df-convert:hover {\n",
              "      background-color: #434B5C;\n",
              "      box-shadow: 0px 1px 3px 1px rgba(0, 0, 0, 0.15);\n",
              "      filter: drop-shadow(0px 1px 2px rgba(0, 0, 0, 0.3));\n",
              "      fill: #FFFFFF;\n",
              "    }\n",
              "  </style>\n",
              "\n",
              "      <script>\n",
              "        const buttonEl =\n",
              "          document.querySelector('#df-a29b5c2c-067e-4741-a08c-4e1301e26aed button.colab-df-convert');\n",
              "        buttonEl.style.display =\n",
              "          google.colab.kernel.accessAllowed ? 'block' : 'none';\n",
              "\n",
              "        async function convertToInteractive(key) {\n",
              "          const element = document.querySelector('#df-a29b5c2c-067e-4741-a08c-4e1301e26aed');\n",
              "          const dataTable =\n",
              "            await google.colab.kernel.invokeFunction('convertToInteractive',\n",
              "                                                     [key], {});\n",
              "          if (!dataTable) return;\n",
              "\n",
              "          const docLinkHtml = 'Like what you see? Visit the ' +\n",
              "            '<a target=\"_blank\" href=https://colab.research.google.com/notebooks/data_table.ipynb>data table notebook</a>'\n",
              "            + ' to learn more about interactive tables.';\n",
              "          element.innerHTML = '';\n",
              "          dataTable['output_type'] = 'display_data';\n",
              "          await google.colab.output.renderOutput(dataTable, element);\n",
              "          const docLink = document.createElement('div');\n",
              "          docLink.innerHTML = docLinkHtml;\n",
              "          element.appendChild(docLink);\n",
              "        }\n",
              "      </script>\n",
              "    </div>\n",
              "  </div>\n",
              "  "
            ]
          },
          "metadata": {},
          "execution_count": 63
        }
      ]
    },
    {
      "cell_type": "code",
      "source": [
        "df.to_excel(\"Category_data_yoshop.xlsx\",index=True)"
      ],
      "metadata": {
        "id": "QCIaAEaaanjz"
      },
      "execution_count": null,
      "outputs": []
    }
  ]
}